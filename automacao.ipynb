{
 "cells": [
  {
   "cell_type": "code",
   "execution_count": 2,
   "id": "d31cef4d-c611-4885-9723-076b4c8ac30a",
   "metadata": {},
   "outputs": [
    {
     "ename": "WebDriverException",
     "evalue": "Message: disconnected: Unable to receive message from renderer\n  (failed to check if window was closed: disconnected: not connected to DevTools)\n  (Session info: chrome=129.0.6668.60)\nStacktrace:\n\tGetHandleVerifier [0x00007FF7E10EB095+29557]\n\t(No symbol) [0x00007FF7E105FA50]\n\t(No symbol) [0x00007FF7E0F1B56A]\n\t(No symbol) [0x00007FF7E0F041E7]\n\t(No symbol) [0x00007FF7E0F03EEA]\n\t(No symbol) [0x00007FF7E0F02DB5]\n\t(No symbol) [0x00007FF7E0F295A0]\n\t(No symbol) [0x00007FF7E0FB8861]\n\t(No symbol) [0x00007FF7E0F96F33]\n\t(No symbol) [0x00007FF7E0F6116F]\n\t(No symbol) [0x00007FF7E0F622D1]\n\tGetHandleVerifier [0x00007FF7E141C96D+3378253]\n\tGetHandleVerifier [0x00007FF7E1468497+3688311]\n\tGetHandleVerifier [0x00007FF7E145D1CB+3642539]\n\tGetHandleVerifier [0x00007FF7E11AA6B6+813462]\n\t(No symbol) [0x00007FF7E106AB5F]\n\t(No symbol) [0x00007FF7E1066B74]\n\t(No symbol) [0x00007FF7E1066D10]\n\t(No symbol) [0x00007FF7E1055C1F]\n\tBaseThreadInitThunk [0x00007FFCEF4CDBE7+23]\n\tRtlUserThreadStart [0x00007FFCF00BFBEC+44]\n",
     "output_type": "error",
     "traceback": [
      "\u001b[1;31m---------------------------------------------------------------------------\u001b[0m",
      "\u001b[1;31mWebDriverException\u001b[0m                        Traceback (most recent call last)",
      "Cell \u001b[1;32mIn[2], line 18\u001b[0m\n\u001b[0;32m     14\u001b[0m options\u001b[38;5;241m.\u001b[39madd_argument(\u001b[38;5;124mf\u001b[39m\u001b[38;5;124m\"\u001b[39m\u001b[38;5;124mprofile-directory=\u001b[39m\u001b[38;5;132;01m{\u001b[39;00mcaminho_subperfil\u001b[38;5;132;01m}\u001b[39;00m\u001b[38;5;124m\"\u001b[39m)\n\u001b[0;32m     16\u001b[0m navegador \u001b[38;5;241m=\u001b[39m webdriver\u001b[38;5;241m.\u001b[39mChrome(options\u001b[38;5;241m=\u001b[39moptions)\n\u001b[1;32m---> 18\u001b[0m navegador\u001b[38;5;241m.\u001b[39mget(\u001b[38;5;124m\"\u001b[39m\u001b[38;5;124mhttps://sinan.saude.gov.br/sinan/login/login.jsf\u001b[39m\u001b[38;5;124m\"\u001b[39m)\n",
      "File \u001b[1;32m~\\Documents\\anaconda3\\Lib\\site-packages\\selenium\\webdriver\\remote\\webdriver.py:389\u001b[0m, in \u001b[0;36mWebDriver.get\u001b[1;34m(self, url)\u001b[0m\n\u001b[0;32m    387\u001b[0m \u001b[38;5;28;01mdef\u001b[39;00m \u001b[38;5;21mget\u001b[39m(\u001b[38;5;28mself\u001b[39m, url: \u001b[38;5;28mstr\u001b[39m) \u001b[38;5;241m-\u001b[39m\u001b[38;5;241m>\u001b[39m \u001b[38;5;28;01mNone\u001b[39;00m:\n\u001b[0;32m    388\u001b[0m \u001b[38;5;250m    \u001b[39m\u001b[38;5;124;03m\"\"\"Loads a web page in the current browser session.\"\"\"\u001b[39;00m\n\u001b[1;32m--> 389\u001b[0m     \u001b[38;5;28mself\u001b[39m\u001b[38;5;241m.\u001b[39mexecute(Command\u001b[38;5;241m.\u001b[39mGET, {\u001b[38;5;124m\"\u001b[39m\u001b[38;5;124murl\u001b[39m\u001b[38;5;124m\"\u001b[39m: url})\n",
      "File \u001b[1;32m~\\Documents\\anaconda3\\Lib\\site-packages\\selenium\\webdriver\\remote\\webdriver.py:380\u001b[0m, in \u001b[0;36mWebDriver.execute\u001b[1;34m(self, driver_command, params)\u001b[0m\n\u001b[0;32m    378\u001b[0m response \u001b[38;5;241m=\u001b[39m \u001b[38;5;28mself\u001b[39m\u001b[38;5;241m.\u001b[39mcommand_executor\u001b[38;5;241m.\u001b[39mexecute(driver_command, params)\n\u001b[0;32m    379\u001b[0m \u001b[38;5;28;01mif\u001b[39;00m response:\n\u001b[1;32m--> 380\u001b[0m     \u001b[38;5;28mself\u001b[39m\u001b[38;5;241m.\u001b[39merror_handler\u001b[38;5;241m.\u001b[39mcheck_response(response)\n\u001b[0;32m    381\u001b[0m     response[\u001b[38;5;124m\"\u001b[39m\u001b[38;5;124mvalue\u001b[39m\u001b[38;5;124m\"\u001b[39m] \u001b[38;5;241m=\u001b[39m \u001b[38;5;28mself\u001b[39m\u001b[38;5;241m.\u001b[39m_unwrap_value(response\u001b[38;5;241m.\u001b[39mget(\u001b[38;5;124m\"\u001b[39m\u001b[38;5;124mvalue\u001b[39m\u001b[38;5;124m\"\u001b[39m, \u001b[38;5;28;01mNone\u001b[39;00m))\n\u001b[0;32m    382\u001b[0m     \u001b[38;5;28;01mreturn\u001b[39;00m response\n",
      "File \u001b[1;32m~\\Documents\\anaconda3\\Lib\\site-packages\\selenium\\webdriver\\remote\\errorhandler.py:229\u001b[0m, in \u001b[0;36mErrorHandler.check_response\u001b[1;34m(self, response)\u001b[0m\n\u001b[0;32m    227\u001b[0m         alert_text \u001b[38;5;241m=\u001b[39m value[\u001b[38;5;124m\"\u001b[39m\u001b[38;5;124malert\u001b[39m\u001b[38;5;124m\"\u001b[39m]\u001b[38;5;241m.\u001b[39mget(\u001b[38;5;124m\"\u001b[39m\u001b[38;5;124mtext\u001b[39m\u001b[38;5;124m\"\u001b[39m)\n\u001b[0;32m    228\u001b[0m     \u001b[38;5;28;01mraise\u001b[39;00m exception_class(message, screen, stacktrace, alert_text)  \u001b[38;5;66;03m# type: ignore[call-arg]  # mypy is not smart enough here\u001b[39;00m\n\u001b[1;32m--> 229\u001b[0m \u001b[38;5;28;01mraise\u001b[39;00m exception_class(message, screen, stacktrace)\n",
      "\u001b[1;31mWebDriverException\u001b[0m: Message: disconnected: Unable to receive message from renderer\n  (failed to check if window was closed: disconnected: not connected to DevTools)\n  (Session info: chrome=129.0.6668.60)\nStacktrace:\n\tGetHandleVerifier [0x00007FF7E10EB095+29557]\n\t(No symbol) [0x00007FF7E105FA50]\n\t(No symbol) [0x00007FF7E0F1B56A]\n\t(No symbol) [0x00007FF7E0F041E7]\n\t(No symbol) [0x00007FF7E0F03EEA]\n\t(No symbol) [0x00007FF7E0F02DB5]\n\t(No symbol) [0x00007FF7E0F295A0]\n\t(No symbol) [0x00007FF7E0FB8861]\n\t(No symbol) [0x00007FF7E0F96F33]\n\t(No symbol) [0x00007FF7E0F6116F]\n\t(No symbol) [0x00007FF7E0F622D1]\n\tGetHandleVerifier [0x00007FF7E141C96D+3378253]\n\tGetHandleVerifier [0x00007FF7E1468497+3688311]\n\tGetHandleVerifier [0x00007FF7E145D1CB+3642539]\n\tGetHandleVerifier [0x00007FF7E11AA6B6+813462]\n\t(No symbol) [0x00007FF7E106AB5F]\n\t(No symbol) [0x00007FF7E1066B74]\n\t(No symbol) [0x00007FF7E1066D10]\n\t(No symbol) [0x00007FF7E1055C1F]\n\tBaseThreadInitThunk [0x00007FFCEF4CDBE7+23]\n\tRtlUserThreadStart [0x00007FFCF00BFBEC+44]\n"
     ]
    }
   ],
   "source": [
    "import pandas as pd\n",
    "from selenium import webdriver\n",
    "from selenium.webdriver.common.by import By\n",
    "from selenium.webdriver.common.keys import Keys\n",
    "from selenium.webdriver.support.select import Select\n",
    "from selenium.webdriver.chrome.options import Options\n",
    "import time\n",
    "\n",
    "caminho_perfil = r\"C:\\Users\\USER\\AppData\\Local\\Google\\Chrome\\User Data\\Default\"\n",
    "caminho_subperfil = r\"C:\\Users\\USER\\AppData\\Local\\Google\\Chrome\\User Data\\Profile 16\"\n",
    "\n",
    "options = Options()\n",
    "options.add_argument(f\"user-data-dir={caminho_perfil}\")\n",
    "options.add_argument(f\"profile-directory={caminho_subperfil}\")\n",
    "\n",
    "navegador = webdriver.Chrome(options=options)\n",
    "\n",
    "navegador.get(\"https://sinan.saude.gov.br/sinan/login/login.jsf\")\n",
    "\n",
    "#navegador.get('https://accounts.google.com/v3/signin/identifier?continue=https%3A%2F%2Fmail.google.com%2Fmail%2Fu%2F0%2F%3Fhl%3Dpt-BR%26shva%3D1&emr=1&followup=https%3A%2F%2Fmail.google.com%2Fmail%2Fu%2F0%2F%3Fhl%3Dpt-BR%26shva%3D1&hl=pt-BR&ifkv=AS5LTAQvyspkWCd91jk-wHiecJk-IGgh9yPP1BzTnxZf2JKNWt7Dx4x_KspjTXDevb9_2KP5Lm6TUQ&osid=1&passive=1209600&service=mail&flowName=WebLiteSignIn&flowEntry=ServiceLogin&dsh=S673651612%3A1717387467993056')\n",
    "#time.sleep(2)\n",
    "#email = 'layzanauanedev@gmail.com'\n",
    "#senha = 'evme1977'\n",
    "#email = 'equipevigeparaguari@gmail.com'\n",
    "#senha = 'epidemiologiaaraguari'\n",
    "\n",
    "#navegador.find_element(By.XPATH, '//*[@id=\"identifierId\"]').send_keys(email)\n",
    "#navegador.find_element(By.XPATH, '//*[@id=\"identifierNext\"]').click()\n",
    "\n",
    "#navegador = webdriver.Chrome()\n",
    "#navegador.get('https://sinan.saude.gov.br/sinan/login/login.jsf')\n"
   ]
  },
  {
   "cell_type": "code",
   "execution_count": 3,
   "id": "7e64197f-2d46-4259-b185-0aaa9e279c08",
   "metadata": {},
   "outputs": [
    {
     "name": "stdout",
     "output_type": "stream",
     "text": [
      "Collecting selenium\n",
      "  Downloading selenium-4.26.0-py3-none-any.whl.metadata (7.1 kB)\n",
      "Requirement already satisfied: urllib3<3,>=1.26 in c:\\users\\user\\documents\\anaconda3\\lib\\site-packages (from urllib3[socks]<3,>=1.26->selenium) (2.2.3)\n",
      "Collecting trio~=0.17 (from selenium)\n",
      "  Downloading trio-0.27.0-py3-none-any.whl.metadata (8.6 kB)\n",
      "Collecting trio-websocket~=0.9 (from selenium)\n",
      "  Downloading trio_websocket-0.11.1-py3-none-any.whl.metadata (4.7 kB)\n",
      "Requirement already satisfied: certifi>=2021.10.8 in c:\\users\\user\\documents\\anaconda3\\lib\\site-packages (from selenium) (2024.8.30)\n",
      "Requirement already satisfied: typing_extensions~=4.9 in c:\\users\\user\\documents\\anaconda3\\lib\\site-packages (from selenium) (4.11.0)\n",
      "Requirement already satisfied: websocket-client~=1.8 in c:\\users\\user\\documents\\anaconda3\\lib\\site-packages (from selenium) (1.8.0)\n",
      "Collecting attrs>=23.2.0 (from trio~=0.17->selenium)\n",
      "  Downloading attrs-24.2.0-py3-none-any.whl.metadata (11 kB)\n",
      "Requirement already satisfied: sortedcontainers in c:\\users\\user\\documents\\anaconda3\\lib\\site-packages (from trio~=0.17->selenium) (2.4.0)\n",
      "Requirement already satisfied: idna in c:\\users\\user\\documents\\anaconda3\\lib\\site-packages (from trio~=0.17->selenium) (3.7)\n",
      "Collecting outcome (from trio~=0.17->selenium)\n",
      "  Downloading outcome-1.3.0.post0-py2.py3-none-any.whl.metadata (2.6 kB)\n",
      "Requirement already satisfied: sniffio>=1.3.0 in c:\\users\\user\\documents\\anaconda3\\lib\\site-packages (from trio~=0.17->selenium) (1.3.0)\n",
      "Requirement already satisfied: cffi>=1.14 in c:\\users\\user\\documents\\anaconda3\\lib\\site-packages (from trio~=0.17->selenium) (1.17.1)\n",
      "Collecting wsproto>=0.14 (from trio-websocket~=0.9->selenium)\n",
      "  Downloading wsproto-1.2.0-py3-none-any.whl.metadata (5.6 kB)\n",
      "Requirement already satisfied: pysocks!=1.5.7,<2.0,>=1.5.6 in c:\\users\\user\\documents\\anaconda3\\lib\\site-packages (from urllib3[socks]<3,>=1.26->selenium) (1.7.1)\n",
      "Requirement already satisfied: pycparser in c:\\users\\user\\documents\\anaconda3\\lib\\site-packages (from cffi>=1.14->trio~=0.17->selenium) (2.21)\n",
      "Requirement already satisfied: h11<1,>=0.9.0 in c:\\users\\user\\documents\\anaconda3\\lib\\site-packages (from wsproto>=0.14->trio-websocket~=0.9->selenium) (0.14.0)\n",
      "Downloading selenium-4.26.0-py3-none-any.whl (9.7 MB)\n",
      "   ---------------------------------------- 0.0/9.7 MB ? eta -:--:--\n",
      "   -------- ------------------------------- 2.1/9.7 MB 10.7 MB/s eta 0:00:01\n",
      "   --------------- ------------------------ 3.7/9.7 MB 9.1 MB/s eta 0:00:01\n",
      "   --------------------- ------------------ 5.2/9.7 MB 8.6 MB/s eta 0:00:01\n",
      "   ------------------------------ --------- 7.3/9.7 MB 8.5 MB/s eta 0:00:01\n",
      "   -------------------------------------- - 9.4/9.7 MB 8.9 MB/s eta 0:00:01\n",
      "   ---------------------------------------- 9.7/9.7 MB 7.9 MB/s eta 0:00:00\n",
      "Downloading trio-0.27.0-py3-none-any.whl (481 kB)\n",
      "Downloading trio_websocket-0.11.1-py3-none-any.whl (17 kB)\n",
      "Downloading attrs-24.2.0-py3-none-any.whl (63 kB)\n",
      "Downloading wsproto-1.2.0-py3-none-any.whl (24 kB)\n",
      "Downloading outcome-1.3.0.post0-py2.py3-none-any.whl (10 kB)\n",
      "Installing collected packages: wsproto, attrs, outcome, trio, trio-websocket, selenium\n",
      "  Attempting uninstall: attrs\n",
      "    Found existing installation: attrs 23.1.0\n",
      "    Uninstalling attrs-23.1.0:\n",
      "      Successfully uninstalled attrs-23.1.0\n",
      "Successfully installed attrs-24.2.0 outcome-1.3.0.post0 selenium-4.26.0 trio-0.27.0 trio-websocket-0.11.1 wsproto-1.2.0\n",
      "Note: you may need to restart the kernel to use updated packages.\n"
     ]
    }
   ],
   "source": [
    "%pip install selenium"
   ]
  },
  {
   "cell_type": "code",
   "execution_count": null,
   "id": "408f0272-ef3a-48d6-acf7-bb5f6e824ea8",
   "metadata": {},
   "outputs": [],
   "source": []
  }
 ],
 "metadata": {
  "kernelspec": {
   "display_name": "Python 3 (ipykernel)",
   "language": "python",
   "name": "python3"
  },
  "language_info": {
   "codemirror_mode": {
    "name": "ipython",
    "version": 3
   },
   "file_extension": ".py",
   "mimetype": "text/x-python",
   "name": "python",
   "nbconvert_exporter": "python",
   "pygments_lexer": "ipython3",
   "version": "3.12.7"
  }
 },
 "nbformat": 4,
 "nbformat_minor": 5
}
